{
 "cells": [
  {
   "cell_type": "markdown",
   "metadata": {},
   "source": [
    "# General ML Model Pipeline\n",
    "\n",
    "### Table of contents:\n",
    "1. Dependencies  \n",
    "2. Read-in data  \n",
    "3. Data cleanup  \n",
    "    3a. Check inconsistencies  \n",
    "    3b. Fix inconsistencies  \n",
    "    3c. Determine feature data types  \n",
    "    3d. Convert and re-code feature data  \n",
    "    3e. Missing values  \n",
    "4. Group imbalance"
   ]
  },
  {
   "cell_type": "markdown",
   "metadata": {},
   "source": [
    "### 1. Dependencies"
   ]
  },
  {
   "cell_type": "code",
   "execution_count": 9,
   "metadata": {},
   "outputs": [],
   "source": [
    "import pandas as pd\n",
    "import numpy as np"
   ]
  },
  {
   "cell_type": "markdown",
   "metadata": {},
   "source": [
    "### 2. Read-in data\n",
    "Read data and transform into dataframe.  \n",
    "Test case: local data in .csv format."
   ]
  },
  {
   "cell_type": "code",
   "execution_count": null,
   "metadata": {},
   "outputs": [],
   "source": []
  },
  {
   "cell_type": "markdown",
   "metadata": {},
   "source": [
    "### 3. Data cleanup"
   ]
  },
  {
   "cell_type": "markdown",
   "metadata": {},
   "source": [
    "### 3a. Check inconsistencies\n",
    "Custom function to check dataframe for inconsistencies in, e.g., data type and delimiters "
   ]
  },
  {
   "cell_type": "code",
   "execution_count": 10,
   "metadata": {},
   "outputs": [],
   "source": [
    "def check_inconsistent_values(df: pd.DataFrame):\n",
    "    # Checking for missing values\n",
    "    print(\"Missing Values Check:\")\n",
    "    print(df.isnull().sum())\n",
    "    \n",
    "    # Check for inconsistent data types\n",
    "    print(\"\\nData Types Check:\")\n",
    "    print(df.dtypes)\n",
    "    \n",
    "    # Check for numeric columns containing non-numeric data\n",
    "    print(\"\\nNon-numeric Data in Numeric Columns:\")\n",
    "    for col in df.select_dtypes(include=['int64', 'float64']).columns:\n",
    "        non_numeric = df[col].apply(lambda x: not pd.api.types.is_number(x))\n",
    "        if non_numeric.sum() > 0:\n",
    "            print(f\"Non-numeric values found in {col}:\")\n",
    "            print(df[non_numeric][col])\n",
    "    \n",
    "    # Checking for delimiter issues by finding any cell containing multiple delimiters\n",
    "    print(\"\\nDelimiter Issues Check (commas, semicolons):\")\n",
    "    delimiter_issues = df.applymap(lambda x: isinstance(x, str) and (',' in x or ';' in x))\n",
    "    if delimiter_issues.any().any():\n",
    "        print(\"Delimiter issues found in the following columns:\")\n",
    "        print(df.columns[delimiter_issues.any()])\n",
    "\n",
    "    # Checking for duplicate features\n",
    "    print(\"\\nDuplicate Columns Check:\")\n",
    "    duplicatecols = df[df.columns.duplicated()]\n",
    "    if not duplicatecols.empty:\n",
    "        print(f\"{len(duplicatecols)} duplicate columns found:\")\n",
    "        print(duplicatecols)\n",
    "    else:\n",
    "        print(\"No duplicate columns found.\")\n",
    "\n",
    "    # Checking for duplicate rows\n",
    "    print(\"\\nDuplicate Rows Check:\")\n",
    "    duplicaterows = df[df.duplicated()]\n",
    "    if not duplicaterows.empty:\n",
    "        print(f\"{len(duplicaterows)} duplicate rows found:\")\n",
    "        print(duplicaterows)\n",
    "    else:\n",
    "        print(\"No duplicate rows found.\")\n",
    "    \n",
    "    # Checking for inconsistent casing in string columns\n",
    "    print(\"\\nInconsistent Casing in String Columns:\")\n",
    "    for col in df.select_dtypes(include=['object']).columns:\n",
    "        inconsistent_case = df[col].apply(lambda x: isinstance(x, str) and (x != x.lower() and x != x.upper()))\n",
    "        if inconsistent_case.any():\n",
    "            print(f\"Inconsistent casing found in {col}:\")\n",
    "            print(df[inconsistent_case][col])\n",
    "\n",
    "    # Checking for extra whitespace in string columns\n",
    "    print(\"\\nExtra Whitespace in String Columns:\")\n",
    "    for col in df.select_dtypes(include=['object']).columns:\n",
    "        whitespace_issues = df[col].apply(lambda x: isinstance(x, str) and (x != x.strip()))\n",
    "        if whitespace_issues.any():\n",
    "            print(f\"Whitespace issues found in {col}:\")\n",
    "            print(df[whitespace_issues][col])"
   ]
  }
 ],
 "metadata": {
  "kernelspec": {
   "display_name": "Python 3",
   "language": "python",
   "name": "python3"
  },
  "language_info": {
   "codemirror_mode": {
    "name": "ipython",
    "version": 3
   },
   "file_extension": ".py",
   "mimetype": "text/x-python",
   "name": "python",
   "nbconvert_exporter": "python",
   "pygments_lexer": "ipython3",
   "version": "3.11.4"
  }
 },
 "nbformat": 4,
 "nbformat_minor": 2
}
